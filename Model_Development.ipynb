{
 "cells": [
  {
   "cell_type": "code",
   "execution_count": 1,
   "metadata": {},
   "outputs": [],
   "source": [
    "import pandas as pd\n",
    "import numpy as np\n",
    "import matplotlib.pyplot as plt\n",
    "import seaborn as sns\n",
    "from matplotlib import rcParams\n",
    "%matplotlib inline \n",
    "rcParams['figure.figsize']=20,10\n",
    "sns.set(color_codes=True)"
   ]
  },
  {
   "cell_type": "code",
   "execution_count": 2,
   "metadata": {},
   "outputs": [
    {
     "name": "stdout",
     "output_type": "stream",
     "text": [
      "<class 'pandas.core.frame.DataFrame'>\n",
      "RangeIndex: 9211 entries, 0 to 9210\n",
      "Data columns (total 10 columns):\n",
      " #   Column               Non-Null Count  Dtype \n",
      "---  ------               --------------  ----- \n",
      " 0   DATE                 9211 non-null   object\n",
      " 1   ME_ID                9211 non-null   object\n",
      " 2   DISEASE_ID           9211 non-null   object\n",
      " 3   ORDER_QUANTITY       9211 non-null   object\n",
      " 4   ORDER_FREE_QUANTITY  9211 non-null   int64 \n",
      " 5   SOLD_QUANTITY        9211 non-null   object\n",
      " 6   SOLD_FREE            9210 non-null   object\n",
      " 7   MEDICINE_NAME        9211 non-null   object\n",
      " 8   DISEASE_NAME         9211 non-null   object\n",
      " 9   CITY                 9211 non-null   object\n",
      "dtypes: int64(1), object(9)\n",
      "memory usage: 719.7+ KB\n"
     ]
    }
   ],
   "source": [
    "df = pd.read_csv('final_data.csv')\n",
    "df.info()"
   ]
  },
  {
   "cell_type": "code",
   "execution_count": 3,
   "metadata": {},
   "outputs": [
    {
     "name": "stdout",
     "output_type": "stream",
     "text": [
      "DATE                   0\n",
      "ME_ID                  0\n",
      "DISEASE_ID             0\n",
      "ORDER_QUANTITY         0\n",
      "ORDER_FREE_QUANTITY    0\n",
      "SOLD_QUANTITY          0\n",
      "SOLD_FREE              1\n",
      "MEDICINE_NAME          0\n",
      "DISEASE_NAME           0\n",
      "CITY                   0\n",
      "dtype: int64\n"
     ]
    }
   ],
   "source": [
    "# check missing value\n",
    "print(df.isnull().sum())"
   ]
  },
  {
   "cell_type": "code",
   "execution_count": 4,
   "metadata": {},
   "outputs": [
    {
     "data": {
      "text/plain": [
       "[0]"
      ]
     },
     "execution_count": 4,
     "metadata": {},
     "output_type": "execute_result"
    }
   ],
   "source": [
    "df[df.SOLD_FREE.isnull()].index.to_list()"
   ]
  },
  {
   "cell_type": "code",
   "execution_count": 5,
   "metadata": {},
   "outputs": [
    {
     "data": {
      "text/plain": [
       "DATE                         31-12-2019\n",
       "ME_ID                            AM2020\n",
       "DISEASE_ID                       BL2020\n",
       "ORDER_QUANTITY                        0\n",
       "ORDER_FREE_QUANTITY                   0\n",
       "SOLD_QUANTITY                       110\n",
       "SOLD_FREE                            10\n",
       "MEDICINE_NAME          AMLOKIND AT -TAB\n",
       "DISEASE_NAME             BLOOD PRESSURE\n",
       "CITY                           KANDUKUR\n",
       "Name: 270, dtype: object"
      ]
     },
     "execution_count": 5,
     "metadata": {},
     "output_type": "execute_result"
    }
   ],
   "source": [
    "# check the row when SOLD_FREE is NaN. looks like a valuable row to keep (ORDER_QUANTITY = 1076) \n",
    "df.iloc[270,:]"
   ]
  },
  {
   "cell_type": "code",
   "execution_count": 6,
   "metadata": {},
   "outputs": [],
   "source": [
    "# SOLD_FREE is usually a percentage of SOLD_QUANTITY. So filling this with 0 should be fine.\n",
    "# fill the NaN in SOLD_FREE with '0' because it was a string\n",
    "df.SOLD_FREE = df.SOLD_FREE.fillna('0')"
   ]
  },
  {
   "cell_type": "code",
   "execution_count": 7,
   "metadata": {},
   "outputs": [
    {
     "name": "stdout",
     "output_type": "stream",
     "text": [
      "DATE                   0\n",
      "ME_ID                  0\n",
      "DISEASE_ID             0\n",
      "ORDER_QUANTITY         0\n",
      "ORDER_FREE_QUANTITY    0\n",
      "SOLD_QUANTITY          0\n",
      "SOLD_FREE              0\n",
      "MEDICINE_NAME          0\n",
      "DISEASE_NAME           0\n",
      "CITY                   0\n",
      "dtype: int64\n"
     ]
    }
   ],
   "source": [
    "print(df.isnull().sum())"
   ]
  },
  {
   "cell_type": "code",
   "execution_count": 8,
   "metadata": {},
   "outputs": [],
   "source": [
    "# convert the following columns to numeric\n",
    "df['ORDER_QUANTITY'] = pd.to_numeric(df.ORDER_QUANTITY.apply(lambda x: x.replace(',','').replace(' ','')))\n",
    "df['SOLD_QUANTITY'] = pd.to_numeric(df.SOLD_QUANTITY.apply(lambda x: x.replace(',','').replace(' ','')))\n",
    "df['SOLD_FREE'] = pd.to_numeric(df.SOLD_FREE.apply(lambda x: x.replace(',','').replace(' ','')))"
   ]
  },
  {
   "cell_type": "code",
   "execution_count": 9,
   "metadata": {},
   "outputs": [],
   "source": [
    "# convert Date\n",
    "df['DATE'] = pd.to_datetime(df.DATE, dayfirst = True)\n",
    "# Add columns for year, month, day, weekday\n",
    "df['year'] = df.DATE.apply(lambda x:x.year).astype(str)\n",
    "df['month'] = df.DATE.apply(lambda x:x.month).astype(str)\n",
    "df['day'] = df.DATE.apply(lambda x:x.day).astype(str)\n",
    "df['weekday'] = df.DATE.apply(lambda x:x.weekday()).astype(str)"
   ]
  },
  {
   "cell_type": "code",
   "execution_count": 10,
   "metadata": {},
   "outputs": [
    {
     "name": "stdout",
     "output_type": "stream",
     "text": [
      "<class 'pandas.core.frame.DataFrame'>\n",
      "RangeIndex: 9211 entries, 0 to 9210\n",
      "Data columns (total 14 columns):\n",
      " #   Column               Non-Null Count  Dtype         \n",
      "---  ------               --------------  -----         \n",
      " 0   DATE                 9211 non-null   datetime64[ns]\n",
      " 1   ME_ID                9211 non-null   object        \n",
      " 2   DISEASE_ID           9211 non-null   object        \n",
      " 3   ORDER_QUANTITY       9211 non-null   float64       \n",
      " 4   ORDER_FREE_QUANTITY  9211 non-null   int64         \n",
      " 5   SOLD_QUANTITY        9211 non-null   float64       \n",
      " 6   SOLD_FREE            9211 non-null   float64       \n",
      " 7   MEDICINE_NAME        9211 non-null   object        \n",
      " 8   DISEASE_NAME         9211 non-null   object        \n",
      " 9   CITY                 9211 non-null   object        \n",
      " 10  year                 9211 non-null   object        \n",
      " 11  month                9211 non-null   object        \n",
      " 12  day                  9211 non-null   object        \n",
      " 13  weekday              9211 non-null   object        \n",
      "dtypes: datetime64[ns](1), float64(3), int64(1), object(9)\n",
      "memory usage: 1007.6+ KB\n"
     ]
    }
   ],
   "source": [
    "df.info()"
   ]
  },
  {
   "cell_type": "code",
   "execution_count": 11,
   "metadata": {},
   "outputs": [
    {
     "data": {
      "text/html": [
       "<div>\n",
       "<style scoped>\n",
       "    .dataframe tbody tr th:only-of-type {\n",
       "        vertical-align: middle;\n",
       "    }\n",
       "\n",
       "    .dataframe tbody tr th {\n",
       "        vertical-align: top;\n",
       "    }\n",
       "\n",
       "    .dataframe thead th {\n",
       "        text-align: right;\n",
       "    }\n",
       "</style>\n",
       "<table border=\"1\" class=\"dataframe\">\n",
       "  <thead>\n",
       "    <tr style=\"text-align: right;\">\n",
       "      <th></th>\n",
       "      <th>DATE</th>\n",
       "      <th>ME_ID</th>\n",
       "      <th>DISEASE_ID</th>\n",
       "      <th>ORDER_QUANTITY</th>\n",
       "      <th>ORDER_FREE_QUANTITY</th>\n",
       "      <th>SOLD_QUANTITY</th>\n",
       "      <th>SOLD_FREE</th>\n",
       "      <th>MEDICINE_NAME</th>\n",
       "      <th>DISEASE_NAME</th>\n",
       "      <th>CITY</th>\n",
       "      <th>year</th>\n",
       "      <th>month</th>\n",
       "      <th>day</th>\n",
       "      <th>weekday</th>\n",
       "    </tr>\n",
       "  </thead>\n",
       "  <tbody>\n",
       "    <tr>\n",
       "      <th>0</th>\n",
       "      <td>2019-04-01</td>\n",
       "      <td>AM2020</td>\n",
       "      <td>BL2020</td>\n",
       "      <td>1076.0</td>\n",
       "      <td>0</td>\n",
       "      <td>0.0</td>\n",
       "      <td>0.0</td>\n",
       "      <td>AMLOKIND AT -TAB</td>\n",
       "      <td>BLOOD PRESSURE</td>\n",
       "      <td>VIJAYAWADA</td>\n",
       "      <td>2019</td>\n",
       "      <td>4</td>\n",
       "      <td>1</td>\n",
       "      <td>0</td>\n",
       "    </tr>\n",
       "    <tr>\n",
       "      <th>1</th>\n",
       "      <td>2019-05-21</td>\n",
       "      <td>AM2020</td>\n",
       "      <td>BL2020</td>\n",
       "      <td>0.0</td>\n",
       "      <td>0</td>\n",
       "      <td>110.0</td>\n",
       "      <td>10.0</td>\n",
       "      <td>AMLOKIND AT -TAB</td>\n",
       "      <td>BLOOD PRESSURE</td>\n",
       "      <td>KANDUKUR</td>\n",
       "      <td>2019</td>\n",
       "      <td>5</td>\n",
       "      <td>21</td>\n",
       "      <td>1</td>\n",
       "    </tr>\n",
       "    <tr>\n",
       "      <th>2</th>\n",
       "      <td>2019-05-21</td>\n",
       "      <td>AM2020</td>\n",
       "      <td>BL2020</td>\n",
       "      <td>0.0</td>\n",
       "      <td>0</td>\n",
       "      <td>110.0</td>\n",
       "      <td>10.0</td>\n",
       "      <td>AMLOKIND AT -TAB</td>\n",
       "      <td>BLOOD PRESSURE</td>\n",
       "      <td>KAVALI</td>\n",
       "      <td>2019</td>\n",
       "      <td>5</td>\n",
       "      <td>21</td>\n",
       "      <td>1</td>\n",
       "    </tr>\n",
       "    <tr>\n",
       "      <th>3</th>\n",
       "      <td>2019-05-21</td>\n",
       "      <td>AM2020</td>\n",
       "      <td>BL2020</td>\n",
       "      <td>0.0</td>\n",
       "      <td>0</td>\n",
       "      <td>110.0</td>\n",
       "      <td>10.0</td>\n",
       "      <td>AMLOKIND AT -TAB</td>\n",
       "      <td>BLOOD PRESSURE</td>\n",
       "      <td>ONGOLE</td>\n",
       "      <td>2019</td>\n",
       "      <td>5</td>\n",
       "      <td>21</td>\n",
       "      <td>1</td>\n",
       "    </tr>\n",
       "    <tr>\n",
       "      <th>4</th>\n",
       "      <td>2019-05-21</td>\n",
       "      <td>AM2020</td>\n",
       "      <td>BL2020</td>\n",
       "      <td>0.0</td>\n",
       "      <td>0</td>\n",
       "      <td>110.0</td>\n",
       "      <td>10.0</td>\n",
       "      <td>AMLOKIND AT -TAB</td>\n",
       "      <td>BLOOD PRESSURE</td>\n",
       "      <td>KANDUKUR</td>\n",
       "      <td>2019</td>\n",
       "      <td>5</td>\n",
       "      <td>21</td>\n",
       "      <td>1</td>\n",
       "    </tr>\n",
       "    <tr>\n",
       "      <th>5</th>\n",
       "      <td>2019-05-21</td>\n",
       "      <td>AM2020</td>\n",
       "      <td>BL2020</td>\n",
       "      <td>0.0</td>\n",
       "      <td>0</td>\n",
       "      <td>22.0</td>\n",
       "      <td>2.0</td>\n",
       "      <td>AMLOKIND AT -TAB</td>\n",
       "      <td>BLOOD PRESSURE</td>\n",
       "      <td>KANDUKUR</td>\n",
       "      <td>2019</td>\n",
       "      <td>5</td>\n",
       "      <td>21</td>\n",
       "      <td>1</td>\n",
       "    </tr>\n",
       "    <tr>\n",
       "      <th>6</th>\n",
       "      <td>2019-05-22</td>\n",
       "      <td>AM2020</td>\n",
       "      <td>BL2020</td>\n",
       "      <td>0.0</td>\n",
       "      <td>0</td>\n",
       "      <td>110.0</td>\n",
       "      <td>10.0</td>\n",
       "      <td>AMLOKIND AT -TAB</td>\n",
       "      <td>BLOOD PRESSURE</td>\n",
       "      <td>KANDUKUR</td>\n",
       "      <td>2019</td>\n",
       "      <td>5</td>\n",
       "      <td>22</td>\n",
       "      <td>2</td>\n",
       "    </tr>\n",
       "    <tr>\n",
       "      <th>7</th>\n",
       "      <td>2019-05-22</td>\n",
       "      <td>AM2020</td>\n",
       "      <td>BL2020</td>\n",
       "      <td>0.0</td>\n",
       "      <td>0</td>\n",
       "      <td>220.0</td>\n",
       "      <td>20.0</td>\n",
       "      <td>AMLOKIND AT -TAB</td>\n",
       "      <td>BLOOD PRESSURE</td>\n",
       "      <td>ONGOLE</td>\n",
       "      <td>2019</td>\n",
       "      <td>5</td>\n",
       "      <td>22</td>\n",
       "      <td>2</td>\n",
       "    </tr>\n",
       "    <tr>\n",
       "      <th>8</th>\n",
       "      <td>2019-05-23</td>\n",
       "      <td>AM2020</td>\n",
       "      <td>BL2020</td>\n",
       "      <td>0.0</td>\n",
       "      <td>0</td>\n",
       "      <td>55.0</td>\n",
       "      <td>5.0</td>\n",
       "      <td>AMLOKIND AT -TAB</td>\n",
       "      <td>BLOOD PRESSURE</td>\n",
       "      <td>ONGOLE</td>\n",
       "      <td>2019</td>\n",
       "      <td>5</td>\n",
       "      <td>23</td>\n",
       "      <td>3</td>\n",
       "    </tr>\n",
       "    <tr>\n",
       "      <th>9</th>\n",
       "      <td>2019-05-24</td>\n",
       "      <td>AM2020</td>\n",
       "      <td>BL2020</td>\n",
       "      <td>0.0</td>\n",
       "      <td>0</td>\n",
       "      <td>22.0</td>\n",
       "      <td>2.0</td>\n",
       "      <td>AMLOKIND AT -TAB</td>\n",
       "      <td>BLOOD PRESSURE</td>\n",
       "      <td>PAMUR</td>\n",
       "      <td>2019</td>\n",
       "      <td>5</td>\n",
       "      <td>24</td>\n",
       "      <td>4</td>\n",
       "    </tr>\n",
       "  </tbody>\n",
       "</table>\n",
       "</div>"
      ],
      "text/plain": [
       "        DATE   ME_ID DISEASE_ID  ORDER_QUANTITY  ORDER_FREE_QUANTITY  \\\n",
       "0 2019-04-01  AM2020     BL2020          1076.0                    0   \n",
       "1 2019-05-21  AM2020     BL2020             0.0                    0   \n",
       "2 2019-05-21  AM2020     BL2020             0.0                    0   \n",
       "3 2019-05-21  AM2020     BL2020             0.0                    0   \n",
       "4 2019-05-21  AM2020     BL2020             0.0                    0   \n",
       "5 2019-05-21  AM2020     BL2020             0.0                    0   \n",
       "6 2019-05-22  AM2020     BL2020             0.0                    0   \n",
       "7 2019-05-22  AM2020     BL2020             0.0                    0   \n",
       "8 2019-05-23  AM2020     BL2020             0.0                    0   \n",
       "9 2019-05-24  AM2020     BL2020             0.0                    0   \n",
       "\n",
       "   SOLD_QUANTITY  SOLD_FREE     MEDICINE_NAME    DISEASE_NAME        CITY  \\\n",
       "0            0.0        0.0  AMLOKIND AT -TAB  BLOOD PRESSURE  VIJAYAWADA   \n",
       "1          110.0       10.0  AMLOKIND AT -TAB  BLOOD PRESSURE    KANDUKUR   \n",
       "2          110.0       10.0  AMLOKIND AT -TAB  BLOOD PRESSURE      KAVALI   \n",
       "3          110.0       10.0  AMLOKIND AT -TAB  BLOOD PRESSURE      ONGOLE   \n",
       "4          110.0       10.0  AMLOKIND AT -TAB  BLOOD PRESSURE    KANDUKUR   \n",
       "5           22.0        2.0  AMLOKIND AT -TAB  BLOOD PRESSURE    KANDUKUR   \n",
       "6          110.0       10.0  AMLOKIND AT -TAB  BLOOD PRESSURE    KANDUKUR   \n",
       "7          220.0       20.0  AMLOKIND AT -TAB  BLOOD PRESSURE      ONGOLE   \n",
       "8           55.0        5.0  AMLOKIND AT -TAB  BLOOD PRESSURE      ONGOLE   \n",
       "9           22.0        2.0  AMLOKIND AT -TAB  BLOOD PRESSURE       PAMUR   \n",
       "\n",
       "   year month day weekday  \n",
       "0  2019     4   1       0  \n",
       "1  2019     5  21       1  \n",
       "2  2019     5  21       1  \n",
       "3  2019     5  21       1  \n",
       "4  2019     5  21       1  \n",
       "5  2019     5  21       1  \n",
       "6  2019     5  22       2  \n",
       "7  2019     5  22       2  \n",
       "8  2019     5  23       3  \n",
       "9  2019     5  24       4  "
      ]
     },
     "execution_count": 11,
     "metadata": {},
     "output_type": "execute_result"
    }
   ],
   "source": [
    "df.head(10)"
   ]
  },
  {
   "cell_type": "code",
   "execution_count": 12,
   "metadata": {},
   "outputs": [
    {
     "data": {
      "text/html": [
       "<div>\n",
       "<style scoped>\n",
       "    .dataframe tbody tr th:only-of-type {\n",
       "        vertical-align: middle;\n",
       "    }\n",
       "\n",
       "    .dataframe tbody tr th {\n",
       "        vertical-align: top;\n",
       "    }\n",
       "\n",
       "    .dataframe thead th {\n",
       "        text-align: right;\n",
       "    }\n",
       "</style>\n",
       "<table border=\"1\" class=\"dataframe\">\n",
       "  <thead>\n",
       "    <tr style=\"text-align: right;\">\n",
       "      <th></th>\n",
       "      <th>ORDER_QUANTITY</th>\n",
       "      <th>ORDER_FREE_QUANTITY</th>\n",
       "      <th>SOLD_QUANTITY</th>\n",
       "      <th>SOLD_FREE</th>\n",
       "    </tr>\n",
       "  </thead>\n",
       "  <tbody>\n",
       "    <tr>\n",
       "      <th>count</th>\n",
       "      <td>9211.000000</td>\n",
       "      <td>9211.000000</td>\n",
       "      <td>9211.000000</td>\n",
       "      <td>9211.000000</td>\n",
       "    </tr>\n",
       "    <tr>\n",
       "      <th>mean</th>\n",
       "      <td>43.279883</td>\n",
       "      <td>1.622191</td>\n",
       "      <td>38.959071</td>\n",
       "      <td>2.295842</td>\n",
       "    </tr>\n",
       "    <tr>\n",
       "      <th>std</th>\n",
       "      <td>326.357535</td>\n",
       "      <td>20.184430</td>\n",
       "      <td>84.196034</td>\n",
       "      <td>12.493476</td>\n",
       "    </tr>\n",
       "    <tr>\n",
       "      <th>min</th>\n",
       "      <td>0.000000</td>\n",
       "      <td>0.000000</td>\n",
       "      <td>0.000000</td>\n",
       "      <td>0.000000</td>\n",
       "    </tr>\n",
       "    <tr>\n",
       "      <th>25%</th>\n",
       "      <td>0.000000</td>\n",
       "      <td>0.000000</td>\n",
       "      <td>5.000000</td>\n",
       "      <td>0.000000</td>\n",
       "    </tr>\n",
       "    <tr>\n",
       "      <th>50%</th>\n",
       "      <td>0.000000</td>\n",
       "      <td>0.000000</td>\n",
       "      <td>11.000000</td>\n",
       "      <td>0.000000</td>\n",
       "    </tr>\n",
       "    <tr>\n",
       "      <th>75%</th>\n",
       "      <td>0.000000</td>\n",
       "      <td>0.000000</td>\n",
       "      <td>40.000000</td>\n",
       "      <td>1.000000</td>\n",
       "    </tr>\n",
       "    <tr>\n",
       "      <th>max</th>\n",
       "      <td>10840.000000</td>\n",
       "      <td>950.000000</td>\n",
       "      <td>2400.000000</td>\n",
       "      <td>1000.000000</td>\n",
       "    </tr>\n",
       "  </tbody>\n",
       "</table>\n",
       "</div>"
      ],
      "text/plain": [
       "       ORDER_QUANTITY  ORDER_FREE_QUANTITY  SOLD_QUANTITY    SOLD_FREE\n",
       "count     9211.000000          9211.000000    9211.000000  9211.000000\n",
       "mean        43.279883             1.622191      38.959071     2.295842\n",
       "std        326.357535            20.184430      84.196034    12.493476\n",
       "min          0.000000             0.000000       0.000000     0.000000\n",
       "25%          0.000000             0.000000       5.000000     0.000000\n",
       "50%          0.000000             0.000000      11.000000     0.000000\n",
       "75%          0.000000             0.000000      40.000000     1.000000\n",
       "max      10840.000000           950.000000    2400.000000  1000.000000"
      ]
     },
     "execution_count": 12,
     "metadata": {},
     "output_type": "execute_result"
    }
   ],
   "source": [
    "df.describe()"
   ]
  },
  {
   "cell_type": "code",
   "execution_count": 13,
   "metadata": {},
   "outputs": [
    {
     "name": "stdout",
     "output_type": "stream",
     "text": [
      "number of duplicate rows:  (239, 14)\n"
     ]
    }
   ],
   "source": [
    "duplicate_rows_df = df[df.duplicated()]\n",
    "print('number of duplicate rows: ', duplicate_rows_df.shape)"
   ]
  },
  {
   "cell_type": "code",
   "execution_count": 14,
   "metadata": {},
   "outputs": [
    {
     "data": {
      "text/html": [
       "<div>\n",
       "<style scoped>\n",
       "    .dataframe tbody tr th:only-of-type {\n",
       "        vertical-align: middle;\n",
       "    }\n",
       "\n",
       "    .dataframe tbody tr th {\n",
       "        vertical-align: top;\n",
       "    }\n",
       "\n",
       "    .dataframe thead th {\n",
       "        text-align: right;\n",
       "    }\n",
       "</style>\n",
       "<table border=\"1\" class=\"dataframe\">\n",
       "  <thead>\n",
       "    <tr style=\"text-align: right;\">\n",
       "      <th></th>\n",
       "      <th>DATE</th>\n",
       "      <th>ME_ID</th>\n",
       "      <th>DISEASE_ID</th>\n",
       "      <th>ORDER_QUANTITY</th>\n",
       "      <th>ORDER_FREE_QUANTITY</th>\n",
       "      <th>SOLD_QUANTITY</th>\n",
       "      <th>SOLD_FREE</th>\n",
       "      <th>MEDICINE_NAME</th>\n",
       "      <th>DISEASE_NAME</th>\n",
       "      <th>CITY</th>\n",
       "      <th>year</th>\n",
       "      <th>month</th>\n",
       "      <th>day</th>\n",
       "      <th>weekday</th>\n",
       "    </tr>\n",
       "  </thead>\n",
       "  <tbody>\n",
       "    <tr>\n",
       "      <th>4</th>\n",
       "      <td>2019-05-21</td>\n",
       "      <td>AM2020</td>\n",
       "      <td>BL2020</td>\n",
       "      <td>0.0</td>\n",
       "      <td>0</td>\n",
       "      <td>110.0</td>\n",
       "      <td>10.0</td>\n",
       "      <td>AMLOKIND AT -TAB</td>\n",
       "      <td>BLOOD PRESSURE</td>\n",
       "      <td>KANDUKUR</td>\n",
       "      <td>2019</td>\n",
       "      <td>5</td>\n",
       "      <td>21</td>\n",
       "      <td>1</td>\n",
       "    </tr>\n",
       "    <tr>\n",
       "      <th>31</th>\n",
       "      <td>2019-06-04</td>\n",
       "      <td>AM2020</td>\n",
       "      <td>BL2020</td>\n",
       "      <td>0.0</td>\n",
       "      <td>0</td>\n",
       "      <td>11.0</td>\n",
       "      <td>1.0</td>\n",
       "      <td>AMLOKIND AT -TAB</td>\n",
       "      <td>BLOOD PRESSURE</td>\n",
       "      <td>KAVALI</td>\n",
       "      <td>2019</td>\n",
       "      <td>6</td>\n",
       "      <td>4</td>\n",
       "      <td>1</td>\n",
       "    </tr>\n",
       "    <tr>\n",
       "      <th>83</th>\n",
       "      <td>2019-07-20</td>\n",
       "      <td>AM2020</td>\n",
       "      <td>BL2020</td>\n",
       "      <td>0.0</td>\n",
       "      <td>0</td>\n",
       "      <td>11.0</td>\n",
       "      <td>1.0</td>\n",
       "      <td>AMLOKIND AT -TAB</td>\n",
       "      <td>BLOOD PRESSURE</td>\n",
       "      <td>KANDUKUR</td>\n",
       "      <td>2019</td>\n",
       "      <td>7</td>\n",
       "      <td>20</td>\n",
       "      <td>5</td>\n",
       "    </tr>\n",
       "    <tr>\n",
       "      <th>163</th>\n",
       "      <td>2019-10-11</td>\n",
       "      <td>AM2020</td>\n",
       "      <td>BL2020</td>\n",
       "      <td>0.0</td>\n",
       "      <td>0</td>\n",
       "      <td>33.0</td>\n",
       "      <td>3.0</td>\n",
       "      <td>AMLOKIND AT -TAB</td>\n",
       "      <td>BLOOD PRESSURE</td>\n",
       "      <td>CHIMAKURTHY</td>\n",
       "      <td>2019</td>\n",
       "      <td>10</td>\n",
       "      <td>11</td>\n",
       "      <td>4</td>\n",
       "    </tr>\n",
       "    <tr>\n",
       "      <th>169</th>\n",
       "      <td>2019-10-14</td>\n",
       "      <td>AM2020</td>\n",
       "      <td>BL2020</td>\n",
       "      <td>0.0</td>\n",
       "      <td>0</td>\n",
       "      <td>110.0</td>\n",
       "      <td>10.0</td>\n",
       "      <td>AMLOKIND AT -TAB</td>\n",
       "      <td>BLOOD PRESSURE</td>\n",
       "      <td>PODILI</td>\n",
       "      <td>2019</td>\n",
       "      <td>10</td>\n",
       "      <td>14</td>\n",
       "      <td>0</td>\n",
       "    </tr>\n",
       "    <tr>\n",
       "      <th>170</th>\n",
       "      <td>2019-10-14</td>\n",
       "      <td>AM2020</td>\n",
       "      <td>BL2020</td>\n",
       "      <td>0.0</td>\n",
       "      <td>0</td>\n",
       "      <td>550.0</td>\n",
       "      <td>50.0</td>\n",
       "      <td>AMLOKIND AT -TAB</td>\n",
       "      <td>BLOOD PRESSURE</td>\n",
       "      <td>KANDUKUR</td>\n",
       "      <td>2019</td>\n",
       "      <td>10</td>\n",
       "      <td>14</td>\n",
       "      <td>0</td>\n",
       "    </tr>\n",
       "    <tr>\n",
       "      <th>183</th>\n",
       "      <td>2019-10-18</td>\n",
       "      <td>AM2020</td>\n",
       "      <td>BL2020</td>\n",
       "      <td>0.0</td>\n",
       "      <td>0</td>\n",
       "      <td>110.0</td>\n",
       "      <td>10.0</td>\n",
       "      <td>AMLOKIND AT -TAB</td>\n",
       "      <td>BLOOD PRESSURE</td>\n",
       "      <td>KAVALI</td>\n",
       "      <td>2019</td>\n",
       "      <td>10</td>\n",
       "      <td>18</td>\n",
       "      <td>4</td>\n",
       "    </tr>\n",
       "    <tr>\n",
       "      <th>251</th>\n",
       "      <td>2019-12-14</td>\n",
       "      <td>AM2020</td>\n",
       "      <td>BL2020</td>\n",
       "      <td>0.0</td>\n",
       "      <td>0</td>\n",
       "      <td>110.0</td>\n",
       "      <td>10.0</td>\n",
       "      <td>AMLOKIND AT -TAB</td>\n",
       "      <td>BLOOD PRESSURE</td>\n",
       "      <td>VIJAYAWADA</td>\n",
       "      <td>2019</td>\n",
       "      <td>12</td>\n",
       "      <td>14</td>\n",
       "      <td>5</td>\n",
       "    </tr>\n",
       "    <tr>\n",
       "      <th>272</th>\n",
       "      <td>2020-01-01</td>\n",
       "      <td>AM2020</td>\n",
       "      <td>BL2020</td>\n",
       "      <td>0.0</td>\n",
       "      <td>0</td>\n",
       "      <td>55.0</td>\n",
       "      <td>5.0</td>\n",
       "      <td>AMLOKIND AT -TAB</td>\n",
       "      <td>BLOOD PRESSURE</td>\n",
       "      <td>KAVALI</td>\n",
       "      <td>2020</td>\n",
       "      <td>1</td>\n",
       "      <td>1</td>\n",
       "      <td>2</td>\n",
       "    </tr>\n",
       "    <tr>\n",
       "      <th>273</th>\n",
       "      <td>2020-01-01</td>\n",
       "      <td>AM2020</td>\n",
       "      <td>BL2020</td>\n",
       "      <td>0.0</td>\n",
       "      <td>0</td>\n",
       "      <td>55.0</td>\n",
       "      <td>5.0</td>\n",
       "      <td>AMLOKIND AT -TAB</td>\n",
       "      <td>BLOOD PRESSURE</td>\n",
       "      <td>KAVALI</td>\n",
       "      <td>2020</td>\n",
       "      <td>1</td>\n",
       "      <td>1</td>\n",
       "      <td>2</td>\n",
       "    </tr>\n",
       "  </tbody>\n",
       "</table>\n",
       "</div>"
      ],
      "text/plain": [
       "          DATE   ME_ID DISEASE_ID  ORDER_QUANTITY  ORDER_FREE_QUANTITY  \\\n",
       "4   2019-05-21  AM2020     BL2020             0.0                    0   \n",
       "31  2019-06-04  AM2020     BL2020             0.0                    0   \n",
       "83  2019-07-20  AM2020     BL2020             0.0                    0   \n",
       "163 2019-10-11  AM2020     BL2020             0.0                    0   \n",
       "169 2019-10-14  AM2020     BL2020             0.0                    0   \n",
       "170 2019-10-14  AM2020     BL2020             0.0                    0   \n",
       "183 2019-10-18  AM2020     BL2020             0.0                    0   \n",
       "251 2019-12-14  AM2020     BL2020             0.0                    0   \n",
       "272 2020-01-01  AM2020     BL2020             0.0                    0   \n",
       "273 2020-01-01  AM2020     BL2020             0.0                    0   \n",
       "\n",
       "     SOLD_QUANTITY  SOLD_FREE     MEDICINE_NAME    DISEASE_NAME         CITY  \\\n",
       "4            110.0       10.0  AMLOKIND AT -TAB  BLOOD PRESSURE     KANDUKUR   \n",
       "31            11.0        1.0  AMLOKIND AT -TAB  BLOOD PRESSURE       KAVALI   \n",
       "83            11.0        1.0  AMLOKIND AT -TAB  BLOOD PRESSURE     KANDUKUR   \n",
       "163           33.0        3.0  AMLOKIND AT -TAB  BLOOD PRESSURE  CHIMAKURTHY   \n",
       "169          110.0       10.0  AMLOKIND AT -TAB  BLOOD PRESSURE       PODILI   \n",
       "170          550.0       50.0  AMLOKIND AT -TAB  BLOOD PRESSURE     KANDUKUR   \n",
       "183          110.0       10.0  AMLOKIND AT -TAB  BLOOD PRESSURE       KAVALI   \n",
       "251          110.0       10.0  AMLOKIND AT -TAB  BLOOD PRESSURE   VIJAYAWADA   \n",
       "272           55.0        5.0  AMLOKIND AT -TAB  BLOOD PRESSURE       KAVALI   \n",
       "273           55.0        5.0  AMLOKIND AT -TAB  BLOOD PRESSURE       KAVALI   \n",
       "\n",
       "     year month day weekday  \n",
       "4    2019     5  21       1  \n",
       "31   2019     6   4       1  \n",
       "83   2019     7  20       5  \n",
       "163  2019    10  11       4  \n",
       "169  2019    10  14       0  \n",
       "170  2019    10  14       0  \n",
       "183  2019    10  18       4  \n",
       "251  2019    12  14       5  \n",
       "272  2020     1   1       2  \n",
       "273  2020     1   1       2  "
      ]
     },
     "execution_count": 14,
     "metadata": {},
     "output_type": "execute_result"
    }
   ],
   "source": [
    "duplicate_rows_df.head(10)"
   ]
  },
  {
   "cell_type": "code",
   "execution_count": 15,
   "metadata": {},
   "outputs": [],
   "source": [
    "df = df.drop_duplicates()"
   ]
  },
  {
   "cell_type": "code",
   "execution_count": 16,
   "metadata": {},
   "outputs": [
    {
     "data": {
      "text/plain": [
       "DATE                   8972\n",
       "ME_ID                  8972\n",
       "DISEASE_ID             8972\n",
       "ORDER_QUANTITY         8972\n",
       "ORDER_FREE_QUANTITY    8972\n",
       "SOLD_QUANTITY          8972\n",
       "SOLD_FREE              8972\n",
       "MEDICINE_NAME          8972\n",
       "DISEASE_NAME           8972\n",
       "CITY                   8972\n",
       "year                   8972\n",
       "month                  8972\n",
       "day                    8972\n",
       "weekday                8972\n",
       "dtype: int64"
      ]
     },
     "execution_count": 16,
     "metadata": {},
     "output_type": "execute_result"
    }
   ],
   "source": [
    "df.count()"
   ]
  },
  {
   "cell_type": "code",
   "execution_count": 17,
   "metadata": {},
   "outputs": [
    {
     "data": {
      "text/html": [
       "<div>\n",
       "<style scoped>\n",
       "    .dataframe tbody tr th:only-of-type {\n",
       "        vertical-align: middle;\n",
       "    }\n",
       "\n",
       "    .dataframe tbody tr th {\n",
       "        vertical-align: top;\n",
       "    }\n",
       "\n",
       "    .dataframe thead th {\n",
       "        text-align: right;\n",
       "    }\n",
       "</style>\n",
       "<table border=\"1\" class=\"dataframe\">\n",
       "  <thead>\n",
       "    <tr style=\"text-align: right;\">\n",
       "      <th></th>\n",
       "      <th>ORDER_QUANTITY</th>\n",
       "      <th>ORDER_FREE_QUANTITY</th>\n",
       "      <th>SOLD_QUANTITY</th>\n",
       "      <th>SOLD_FREE</th>\n",
       "    </tr>\n",
       "  </thead>\n",
       "  <tbody>\n",
       "    <tr>\n",
       "      <th>count</th>\n",
       "      <td>8972.000000</td>\n",
       "      <td>8972.000000</td>\n",
       "      <td>8972.000000</td>\n",
       "      <td>8972.000000</td>\n",
       "    </tr>\n",
       "    <tr>\n",
       "      <th>mean</th>\n",
       "      <td>44.432791</td>\n",
       "      <td>1.665403</td>\n",
       "      <td>38.998105</td>\n",
       "      <td>2.303165</td>\n",
       "    </tr>\n",
       "    <tr>\n",
       "      <th>std</th>\n",
       "      <td>330.598795</td>\n",
       "      <td>20.449774</td>\n",
       "      <td>84.821373</td>\n",
       "      <td>12.635726</td>\n",
       "    </tr>\n",
       "    <tr>\n",
       "      <th>min</th>\n",
       "      <td>0.000000</td>\n",
       "      <td>0.000000</td>\n",
       "      <td>0.000000</td>\n",
       "      <td>0.000000</td>\n",
       "    </tr>\n",
       "    <tr>\n",
       "      <th>25%</th>\n",
       "      <td>0.000000</td>\n",
       "      <td>0.000000</td>\n",
       "      <td>5.000000</td>\n",
       "      <td>0.000000</td>\n",
       "    </tr>\n",
       "    <tr>\n",
       "      <th>50%</th>\n",
       "      <td>0.000000</td>\n",
       "      <td>0.000000</td>\n",
       "      <td>11.000000</td>\n",
       "      <td>0.000000</td>\n",
       "    </tr>\n",
       "    <tr>\n",
       "      <th>75%</th>\n",
       "      <td>0.000000</td>\n",
       "      <td>0.000000</td>\n",
       "      <td>40.000000</td>\n",
       "      <td>1.000000</td>\n",
       "    </tr>\n",
       "    <tr>\n",
       "      <th>max</th>\n",
       "      <td>10840.000000</td>\n",
       "      <td>950.000000</td>\n",
       "      <td>2400.000000</td>\n",
       "      <td>1000.000000</td>\n",
       "    </tr>\n",
       "  </tbody>\n",
       "</table>\n",
       "</div>"
      ],
      "text/plain": [
       "       ORDER_QUANTITY  ORDER_FREE_QUANTITY  SOLD_QUANTITY    SOLD_FREE\n",
       "count     8972.000000          8972.000000    8972.000000  8972.000000\n",
       "mean        44.432791             1.665403      38.998105     2.303165\n",
       "std        330.598795            20.449774      84.821373    12.635726\n",
       "min          0.000000             0.000000       0.000000     0.000000\n",
       "25%          0.000000             0.000000       5.000000     0.000000\n",
       "50%          0.000000             0.000000      11.000000     0.000000\n",
       "75%          0.000000             0.000000      40.000000     1.000000\n",
       "max      10840.000000           950.000000    2400.000000  1000.000000"
      ]
     },
     "execution_count": 17,
     "metadata": {},
     "output_type": "execute_result"
    }
   ],
   "source": [
    "df.describe()"
   ]
  },
  {
   "cell_type": "code",
   "execution_count": 18,
   "metadata": {},
   "outputs": [
    {
     "data": {
      "text/plain": [
       "<matplotlib.axes._subplots.AxesSubplot at 0x1c8c13ab610>"
      ]
     },
     "execution_count": 18,
     "metadata": {},
     "output_type": "execute_result"
    },
    {
     "data": {
      "image/png": "[encoded data removed]",
      "text/plain": [
       "<Figure size 1440x720 with 1 Axes>"
      ]
     },
     "metadata": {},
     "output_type": "display_data"
    }
   ],
   "source": [
    "sns.lineplot(x=\"DATE\", y=\"SOLD_QUANTITY\", data=df)"
   ]
  },
  {
   "cell_type": "code",
   "execution_count": 19,
   "metadata": {},
   "outputs": [],
   "source": [
    "### Testing For Stationarity\n",
    "\n",
    "from statsmodels.tsa.stattools import adfuller"
   ]
  },
  {
   "cell_type": "code",
   "execution_count": 20,
   "metadata": {},
   "outputs": [],
   "source": [
    "test_result=adfuller(df['SOLD_QUANTITY'])"
   ]
  },
  {
   "cell_type": "code",
   "execution_count": 21,
   "metadata": {},
   "outputs": [],
   "source": [
    "#Ho: It is non stationary\n",
    "#H1: It is stationary\n",
    "\n",
    "def adfuller_test(SOLD_QUANTITY):\n",
    "    result=adfuller(SOLD_QUANTITY)\n",
    "    labels = ['ADF Test Statistic','p-value','#Lags Used','Number of Observations Used']\n",
    "    for value,label in zip(result,labels):\n",
    "        print(label+' : '+str(value) )\n",
    "    if result[1] <= 0.05:\n",
    "        print(\"strong evidence against the null hypothesis(Ho), reject the null hypothesis. Data has no unit root and is stationary\")\n",
    "    else:\n",
    "        print(\"weak evidence against null hypothesis, time series has a unit root, indicating it is non-stationary \")\n",
    "    "
   ]
  },
  {
   "cell_type": "code",
   "execution_count": 22,
   "metadata": {},
   "outputs": [
    {
     "name": "stdout",
     "output_type": "stream",
     "text": [
      "ADF Test Statistic : -5.186358758000529\n",
      "p-value : 9.37374124927215e-06\n",
      "#Lags Used : 35\n",
      "Number of Observations Used : 8936\n",
      "strong evidence against the null hypothesis(Ho), reject the null hypothesis. Data has no unit root and is stationary\n"
     ]
    }
   ],
   "source": [
    "adfuller_test(df['SOLD_QUANTITY'])"
   ]
  },
  {
   "cell_type": "code",
   "execution_count": 23,
   "metadata": {},
   "outputs": [],
   "source": [
    "# For non-seasonal data\n",
    "#p=1, d=1, q=0 or 1\n",
    "from statsmodels.tsa.arima_model import ARIMA"
   ]
  },
  {
   "cell_type": "code",
   "execution_count": 24,
   "metadata": {},
   "outputs": [],
   "source": [
    "from statsmodels.graphics.tsaplots import plot_acf,plot_pacf "
   ]
  },
  {
   "cell_type": "code",
   "execution_count": 25,
   "metadata": {},
   "outputs": [
    {
     "data": {
      "image/png": "[encoded data removed]",
      "text/plain": [
       "<Figure size 864x576 with 2 Axes>"
      ]
     },
     "metadata": {},
     "output_type": "display_data"
    }
   ],
   "source": [
    "fig = plt.figure(figsize=(12,8))\n",
    "ax1 = fig.add_subplot(211)\n",
    "fig = plot_acf(df['SOLD_QUANTITY'],lags=40,ax=ax1)\n",
    "ax2 = fig.add_subplot(212)\n",
    "fig = plot_pacf(df['SOLD_QUANTITY'],lags=40,ax=ax2)"
   ]
  },
  {
   "cell_type": "code",
   "execution_count": 26,
   "metadata": {},
   "outputs": [
    {
     "name": "stderr",
     "output_type": "stream",
     "text": [
      "C:\\Users\\User\\Anaconda3\\lib\\site-packages\\statsmodels\\tsa\\base\\tsa_model.py:213: ValueWarning: An unsupported index was provided and will be ignored when e.g. forecasting.\n",
      "  warnings.warn('An unsupported index was provided and will be'\n",
      "C:\\Users\\User\\Anaconda3\\lib\\site-packages\\statsmodels\\tsa\\base\\tsa_model.py:213: ValueWarning: An unsupported index was provided and will be ignored when e.g. forecasting.\n",
      "  warnings.warn('An unsupported index was provided and will be'\n"
     ]
    }
   ],
   "source": [
    "import statsmodels.api as sm\n",
    "model=sm.tsa.statespace.SARIMAX(df['SOLD_QUANTITY'],order=(1, 0, 1))\n",
    "results=model.fit()"
   ]
  },
  {
   "cell_type": "code",
   "execution_count": 27,
   "metadata": {
    "scrolled": false
   },
   "outputs": [
    {
     "data": {
      "text/plain": [
       "<matplotlib.axes._subplots.AxesSubplot at 0x1c8c78f14c0>"
      ]
     },
     "execution_count": 27,
     "metadata": {},
     "output_type": "execute_result"
    },
    {
     "data": {
      "image/png": "[encoded data removed]",
      "text/plain": [
       "<Figure size 864x576 with 1 Axes>"
      ]
     },
     "metadata": {},
     "output_type": "display_data"
    }
   ],
   "source": [
    "df['forecast']=results.predict()\n",
    "df[['SOLD_QUANTITY','forecast']].plot(figsize=(12,8))"
   ]
  },
  {
   "cell_type": "code",
   "execution_count": 28,
   "metadata": {},
   "outputs": [
    {
     "data": {
      "text/plain": [
       "5398.311780450827"
      ]
     },
     "execution_count": 28,
     "metadata": {},
     "output_type": "execute_result"
    }
   ],
   "source": [
    "from sklearn. metrics import mean_squared_error\n",
    "sqr_error = mean_squared_error(df.SOLD_QUANTITY, df.forecast)\n",
    "sqr_error"
   ]
  },
  {
   "cell_type": "code",
   "execution_count": 29,
   "metadata": {},
   "outputs": [
    {
     "data": {
      "text/plain": [
       "73.4732045064786"
      ]
     },
     "execution_count": 29,
     "metadata": {},
     "output_type": "execute_result"
    }
   ],
   "source": [
    "np.sqrt(sqr_error)"
   ]
  },
  {
   "cell_type": "raw",
   "metadata": {},
   "source": [
    "import warnings\n",
    "warnings.filterwarnings('ignore')\n",
    "for i in range(1,10):\n",
    "    for j in range(1,5):\n",
    "        for k in range(1,3):\n",
    "            model=sm.tsa.statespace.SARIMAX(df['SOLD_QUANTITY'],order=(i, j, k))\n",
    "            results=model.fit()\n",
    "            df['forecast']=results.predict()\n",
    "            print('p = {:.0f}, d = {:.0f}, q = {:.0f},mse sqrt: {:.2f}'\n",
    "             .format(i, j, k, np.sqrt(mean_squared_error(df.SOLD_QUANTITY, df.forecast))))"
   ]
  },
  {
   "cell_type": "raw",
   "metadata": {},
   "source": [
    "import warnings\n",
    "warnings.filterwarnings('ignore')\n",
    "for i in range(10,41):\n",
    "    for j in range(1,3):\n",
    "        for k in range(1,3):\n",
    "            model=sm.tsa.statespace.SARIMAX(df['SOLD_QUANTITY'],order=(i, j, k))\n",
    "            results=model.fit()\n",
    "            df['forecast']=results.predict()\n",
    "            print('p = {:.0f}, d = {:.0f}, q = {:.0f},mse sqrt: {:.2f}'\n",
    "             .format(i, j, k, np.sqrt(mean_squared_error(df.SOLD_QUANTITY, df.forecast))))"
   ]
  },
  {
   "cell_type": "code",
   "execution_count": 30,
   "metadata": {},
   "outputs": [
    {
     "data": {
      "text/plain": [
       "<matplotlib.axes._subplots.AxesSubplot at 0x1c8c7a8b7f0>"
      ]
     },
     "execution_count": 30,
     "metadata": {},
     "output_type": "execute_result"
    },
    {
     "data": {
      "image/png": "[encoded data removed]",
      "text/plain": [
       "<Figure size 864x576 with 1 Axes>"
      ]
     },
     "metadata": {},
     "output_type": "display_data"
    }
   ],
   "source": [
    "import warnings\n",
    "warnings.filterwarnings('ignore')\n",
    "model=sm.tsa.statespace.SARIMAX(df['SOLD_QUANTITY'],order=(27, 1, 1))\n",
    "results=model.fit()\n",
    "df['forecast']=results.predict()\n",
    "df[['SOLD_QUANTITY','forecast']].plot(figsize=(12,8))"
   ]
  },
  {
   "cell_type": "code",
   "execution_count": 31,
   "metadata": {},
   "outputs": [
    {
     "data": {
      "text/plain": [
       "72.46744419967166"
      ]
     },
     "execution_count": 31,
     "metadata": {},
     "output_type": "execute_result"
    }
   ],
   "source": [
    "from sklearn. metrics import mean_squared_error\n",
    "sqr_error = mean_squared_error(df.SOLD_QUANTITY, df.forecast)\n",
    "np.sqrt(sqr_error)"
   ]
  },
  {
   "cell_type": "code",
   "execution_count": null,
   "metadata": {},
   "outputs": [],
   "source": []
  }
 ],
 "metadata": {
  "kernelspec": {
   "display_name": "Python 3",
   "language": "python",
   "name": "python3"
  },
  "language_info": {
   "codemirror_mode": {
    "name": "ipython",
    "version": 3
   },
   "file_extension": ".py",
   "mimetype": "text/x-python",
   "name": "python",
   "nbconvert_exporter": "python",
   "pygments_lexer": "ipython3",
   "version": "3.8.3"
  }
 },
 "nbformat": 4,
 "nbformat_minor": 4
}
